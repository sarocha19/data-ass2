{
 "cells": [
  {
   "cell_type": "code",
   "execution_count": 6,
   "metadata": {},
   "outputs": [],
   "source": [
    "import requests\n",
    "from bs4 import BeautifulSoup\n",
    "import pandas as pd"
   ]
  },
  {
   "cell_type": "code",
   "execution_count": 7,
   "metadata": {},
   "outputs": [],
   "source": [
    "response = requests.get('https://quotes.toscrape.com/')\n",
    "soup = BeautifulSoup(response.content)"
   ]
  },
  {
   "cell_type": "code",
   "execution_count": 21,
   "metadata": {},
   "outputs": [],
   "source": [
    "links = []\n",
    "for page in range(1,11):\n",
    "    if page == 1: \n",
    "        url = \"http://quotes.toscrape.com\"\n",
    "    else: \n",
    "        url = \"http://quotes.toscrape.com/page/\"+str(page)\n",
    "    links.append(url)"
   ]
  },
  {
   "cell_type": "code",
   "execution_count": 27,
   "metadata": {},
   "outputs": [],
   "source": [
    "from bs4 import BeautifulSoup\n",
    "import requests\n",
    "tt = []\n",
    "    #print(url)\n",
    "for linkk in links:\n",
    "    page = requests.get(linkk)\n",
    "    soup = BeautifulSoup(page.content, 'html.parser')\n",
    "    #quotes = soup.find_all('div', class_='quote')\n",
    "    \n",
    "    for q in soup.find_all(\"div\", {\"class\":\"quote\"}):\n",
    "        dictt = {}\n",
    "        dictt[quote] = q.find('span', class_='text').text\n",
    "        dictt[author] = q.find('small', class_='author').text\n",
    "        dictt['tags'] = [tag.text for tag in q.find_all(\"a\",{\"class\":\"tag\"})]\n",
    "        tt.append(dictt)\n",
    "\n",
    "\n",
    "    \n",
    "#news_archive_list_link_news = []\n",
    "#testlink = 'http://www.it.kmitl.ac.th/~teerapong/news_archive/month-jan-2017.html'\n"
   ]
  },
  {
   "cell_type": "code",
   "execution_count": null,
   "metadata": {},
   "outputs": [],
   "source": [
    "quote_al\n",
    "for linkk in links:\n",
    "    page = requests.get(linkk)\n",
    "    soup = BeautifulSoup(page.content, 'html.parser')\n",
    "    #quotes = soup.find_all('div', class_='quote')\n",
    "    \n",
    "    for q in soup.find_all(\"div\", {\"class\":\"quote\"}):\n",
    "        dictt = {}\n",
    "        dictt[quote] = q.find('span', class_='text').text\n",
    "        #dictt[author] = q.find('small', class_='author').text\n",
    "        #dictt['tags'] = [tag.text for tag in q.find_all(\"a\",{\"class\":\"tag\"})]\n",
    "        tt.append(dictt)\n",
    "\n"
   ]
  },
  {
   "cell_type": "code",
   "execution_count": 31,
   "metadata": {},
   "outputs": [
    {
     "name": "stdout",
     "output_type": "stream",
     "text": [
      "   [\\n, [“A day without sunshine is like, you know, night.”], \\n, [by , [Steve Martin], \\n, [(about)], \\n], \\n, [\\n            Tags:\\n            , [], \\n, [humor], \\n, [obvious], \\n, [simile], \\n], \\n]  \\\n",
      "0   “The world as we have created it is a process ...                                                                                                                                                        \n",
      "1   “It is our choices, Harry, that show what we t...                                                                                                                                                        \n",
      "2   “There are only two ways to live your life. On...                                                                                                                                                        \n",
      "3   “The person, be it gentleman or lady, who has ...                                                                                                                                                        \n",
      "4   “Imperfection is beauty, madness is genius and...                                                                                                                                                        \n",
      "..                                                ...                                                                                                                                                        \n",
      "95  “You never really understand a person until yo...                                                                                                                                                        \n",
      "96  “You have to write the book that wants to be w...                                                                                                                                                        \n",
      "97  “Never tell the truth to people who are not wo...                                                                                                                                                        \n",
      "98        “A person's a person, no matter how small.”                                                                                                                                                        \n",
      "99  “... a mind needs books as a sword needs a whe...                                                                                                                                                        \n",
      "\n",
      "          Steve Martin                                               tags  \n",
      "0      Albert Einstein           [change, deep-thoughts, thinking, world]  \n",
      "1         J.K. Rowling                               [abilities, choices]  \n",
      "2      Albert Einstein     [inspirational, life, live, miracle, miracles]  \n",
      "3          Jane Austen                 [aliteracy, books, classic, humor]  \n",
      "4       Marilyn Monroe                       [be-yourself, inspirational]  \n",
      "..                 ...                                                ...  \n",
      "95          Harper Lee                              [better-life-empathy]  \n",
      "96   Madeleine L'Engle  [books, children, difficult, grown-ups, write,...  \n",
      "97          Mark Twain                                            [truth]  \n",
      "98           Dr. Seuss                                    [inspirational]  \n",
      "99  George R.R. Martin                                      [books, mind]  \n",
      "\n",
      "[100 rows x 3 columns]\n"
     ]
    }
   ],
   "source": [
    "dff = pd.DataFrame(tt)\n",
    "print(dff) #complete"
   ]
  },
  {
   "cell_type": "code",
   "execution_count": 42,
   "metadata": {},
   "outputs": [
    {
     "data": {
      "text/plain": [
       "Index([['\\n', ['“A day without sunshine is like, you know, night.”'], '\\n', ['by ', ['Steve Martin'], '\\n', ['(about)'], '\\n'], '\\n', ['\\n            Tags:\\n            ', [], '\\n', ['humor'], '\\n', ['obvious'], '\\n', ['simile'], '\\n'], '\\n'],\n",
       "                                                                                                                                                                                                                                    'Steve Martin',\n",
       "                                                                                                                                                                                                                                             'tag'],\n",
       "      dtype='object')"
      ]
     },
     "execution_count": 42,
     "metadata": {},
     "output_type": "execute_result"
    }
   ],
   "source": [
    "dff.columns"
   ]
  },
  {
   "cell_type": "code",
   "execution_count": 46,
   "metadata": {},
   "outputs": [],
   "source": [
    "dff = dff.set_axis(['quote', 'author', 'tags'], axis=1, inplace=False)"
   ]
  },
  {
   "cell_type": "code",
   "execution_count": 47,
   "metadata": {},
   "outputs": [
    {
     "data": {
      "text/html": [
       "<div>\n",
       "<style scoped>\n",
       "    .dataframe tbody tr th:only-of-type {\n",
       "        vertical-align: middle;\n",
       "    }\n",
       "\n",
       "    .dataframe tbody tr th {\n",
       "        vertical-align: top;\n",
       "    }\n",
       "\n",
       "    .dataframe thead th {\n",
       "        text-align: right;\n",
       "    }\n",
       "</style>\n",
       "<table border=\"1\" class=\"dataframe\">\n",
       "  <thead>\n",
       "    <tr style=\"text-align: right;\">\n",
       "      <th></th>\n",
       "      <th>quote</th>\n",
       "      <th>author</th>\n",
       "      <th>tags</th>\n",
       "    </tr>\n",
       "  </thead>\n",
       "  <tbody>\n",
       "    <tr>\n",
       "      <th>0</th>\n",
       "      <td>“The world as we have created it is a process ...</td>\n",
       "      <td>Albert Einstein</td>\n",
       "      <td>[change, deep-thoughts, thinking, world]</td>\n",
       "    </tr>\n",
       "    <tr>\n",
       "      <th>1</th>\n",
       "      <td>“It is our choices, Harry, that show what we t...</td>\n",
       "      <td>J.K. Rowling</td>\n",
       "      <td>[abilities, choices]</td>\n",
       "    </tr>\n",
       "    <tr>\n",
       "      <th>2</th>\n",
       "      <td>“There are only two ways to live your life. On...</td>\n",
       "      <td>Albert Einstein</td>\n",
       "      <td>[inspirational, life, live, miracle, miracles]</td>\n",
       "    </tr>\n",
       "    <tr>\n",
       "      <th>3</th>\n",
       "      <td>“The person, be it gentleman or lady, who has ...</td>\n",
       "      <td>Jane Austen</td>\n",
       "      <td>[aliteracy, books, classic, humor]</td>\n",
       "    </tr>\n",
       "    <tr>\n",
       "      <th>4</th>\n",
       "      <td>“Imperfection is beauty, madness is genius and...</td>\n",
       "      <td>Marilyn Monroe</td>\n",
       "      <td>[be-yourself, inspirational]</td>\n",
       "    </tr>\n",
       "    <tr>\n",
       "      <th>...</th>\n",
       "      <td>...</td>\n",
       "      <td>...</td>\n",
       "      <td>...</td>\n",
       "    </tr>\n",
       "    <tr>\n",
       "      <th>95</th>\n",
       "      <td>“You never really understand a person until yo...</td>\n",
       "      <td>Harper Lee</td>\n",
       "      <td>[better-life-empathy]</td>\n",
       "    </tr>\n",
       "    <tr>\n",
       "      <th>96</th>\n",
       "      <td>“You have to write the book that wants to be w...</td>\n",
       "      <td>Madeleine L'Engle</td>\n",
       "      <td>[books, children, difficult, grown-ups, write,...</td>\n",
       "    </tr>\n",
       "    <tr>\n",
       "      <th>97</th>\n",
       "      <td>“Never tell the truth to people who are not wo...</td>\n",
       "      <td>Mark Twain</td>\n",
       "      <td>[truth]</td>\n",
       "    </tr>\n",
       "    <tr>\n",
       "      <th>98</th>\n",
       "      <td>“A person's a person, no matter how small.”</td>\n",
       "      <td>Dr. Seuss</td>\n",
       "      <td>[inspirational]</td>\n",
       "    </tr>\n",
       "    <tr>\n",
       "      <th>99</th>\n",
       "      <td>“... a mind needs books as a sword needs a whe...</td>\n",
       "      <td>George R.R. Martin</td>\n",
       "      <td>[books, mind]</td>\n",
       "    </tr>\n",
       "  </tbody>\n",
       "</table>\n",
       "<p>100 rows × 3 columns</p>\n",
       "</div>"
      ],
      "text/plain": [
       "                                                quote              author  \\\n",
       "0   “The world as we have created it is a process ...     Albert Einstein   \n",
       "1   “It is our choices, Harry, that show what we t...        J.K. Rowling   \n",
       "2   “There are only two ways to live your life. On...     Albert Einstein   \n",
       "3   “The person, be it gentleman or lady, who has ...         Jane Austen   \n",
       "4   “Imperfection is beauty, madness is genius and...      Marilyn Monroe   \n",
       "..                                                ...                 ...   \n",
       "95  “You never really understand a person until yo...          Harper Lee   \n",
       "96  “You have to write the book that wants to be w...   Madeleine L'Engle   \n",
       "97  “Never tell the truth to people who are not wo...          Mark Twain   \n",
       "98        “A person's a person, no matter how small.”           Dr. Seuss   \n",
       "99  “... a mind needs books as a sword needs a whe...  George R.R. Martin   \n",
       "\n",
       "                                                 tags  \n",
       "0            [change, deep-thoughts, thinking, world]  \n",
       "1                                [abilities, choices]  \n",
       "2      [inspirational, life, live, miracle, miracles]  \n",
       "3                  [aliteracy, books, classic, humor]  \n",
       "4                        [be-yourself, inspirational]  \n",
       "..                                                ...  \n",
       "95                              [better-life-empathy]  \n",
       "96  [books, children, difficult, grown-ups, write,...  \n",
       "97                                            [truth]  \n",
       "98                                    [inspirational]  \n",
       "99                                      [books, mind]  \n",
       "\n",
       "[100 rows x 3 columns]"
      ]
     },
     "execution_count": 47,
     "metadata": {},
     "output_type": "execute_result"
    }
   ],
   "source": [
    "dff"
   ]
  },
  {
   "cell_type": "code",
   "execution_count": null,
   "metadata": {},
   "outputs": [],
   "source": []
  }
 ],
 "metadata": {
  "kernelspec": {
   "display_name": "Python 3",
   "language": "python",
   "name": "python3"
  },
  "language_info": {
   "codemirror_mode": {
    "name": "ipython",
    "version": 3
   },
   "file_extension": ".py",
   "mimetype": "text/x-python",
   "name": "python",
   "nbconvert_exporter": "python",
   "pygments_lexer": "ipython3",
   "version": "3.8.3"
  },
  "widgets": {
   "application/vnd.jupyter.widget-state+json": {
    "state": {},
    "version_major": 2,
    "version_minor": 0
   }
  }
 },
 "nbformat": 4,
 "nbformat_minor": 4
}
