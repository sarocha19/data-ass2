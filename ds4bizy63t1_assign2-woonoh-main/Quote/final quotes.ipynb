{
 "cells": [
  {
   "cell_type": "code",
   "execution_count": 12,
   "metadata": {},
   "outputs": [],
   "source": [
    "import requests\n",
    "from bs4 import BeautifulSoup\n",
    "import pandas as pd"
   ]
  },
  {
   "cell_type": "code",
   "execution_count": 13,
   "metadata": {},
   "outputs": [],
   "source": [
    "response = requests.get('https://quotes.toscrape.com/')\n",
    "soup = BeautifulSoup(response.content)"
   ]
  },
  {
   "cell_type": "code",
   "execution_count": 14,
   "metadata": {},
   "outputs": [],
   "source": [
    "links = []\n",
    "for page in range(1,11):\n",
    "    if page == 1: \n",
    "        url = \"http://quotes.toscrape.com\"\n",
    "    else: \n",
    "        url = \"http://quotes.toscrape.com/page/\"+str(page)\n",
    "    links.append(url)"
   ]
  },
  {
   "cell_type": "code",
   "execution_count": 16,
   "metadata": {},
   "outputs": [],
   "source": [
    "from bs4 import BeautifulSoup\n",
    "import requests\n",
    "tt = []\n",
    "    #print(url)\n",
    "for linkk in links:\n",
    "    page = requests.get(linkk)\n",
    "    soup = BeautifulSoup(page.content, 'html.parser')\n",
    "    #quotes = soup.find_all('div', class_='quote')\n",
    "    \n",
    "    for q in soup.find_all(\"div\", {\"class\":\"quote\"}):\n",
    "        dictt = {}\n",
    "        dictt['quote'] = q.find('span', class_='text').text\n",
    "        dictt['author'] = q.find('small', class_='author').text\n",
    "        dictt['tags'] = [tag.text for tag in q.find_all(\"a\",{\"class\":\"tag\"})]\n",
    "        tt.append(dictt)\n",
    "\n",
    "\n",
    "    \n",
    "#news_archive_list_link_news = []\n",
    "#testlink = 'http://www.it.kmitl.ac.th/~teerapong/news_archive/month-jan-2017.html'\n"
   ]
  },
  {
   "cell_type": "code",
   "execution_count": 22,
   "metadata": {},
   "outputs": [],
   "source": [
    "quote_all= []\n",
    "for linkk in links:\n",
    "    page = requests.get(linkk)\n",
    "    soup = BeautifulSoup(page.content, 'html.parser')\n",
    "    #quotes = soup.find_all('div', class_='quote')\n",
    "    \n",
    "    for q in soup.find_all(\"div\", {\"class\":\"quote\"}):\n",
    "        dictt = {}\n",
    "        dictt['quote'] = q.find('span', class_='text').text\n",
    "        #dictt[author] = q.find('small', class_='author').text\n",
    "        #dictt['tags'] = [tag.text for tag in q.find_all(\"a\",{\"class\":\"tag\"})]\n",
    "        quote_all.append(dictt)\n",
    "\n"
   ]
  },
  {
   "cell_type": "code",
   "execution_count": 23,
   "metadata": {},
   "outputs": [
    {
     "data": {
      "text/plain": [
       "[{'quote': '“The world as we have created it is a process of our thinking. It cannot be changed without changing our thinking.”'},\n",
       " {'quote': '“It is our choices, Harry, that show what we truly are, far more than our abilities.”'},\n",
       " {'quote': '“There are only two ways to live your life. One is as though nothing is a miracle. The other is as though everything is a miracle.”'},\n",
       " {'quote': '“The person, be it gentleman or lady, who has not pleasure in a good novel, must be intolerably stupid.”'},\n",
       " {'quote': \"“Imperfection is beauty, madness is genius and it's better to be absolutely ridiculous than absolutely boring.”\"},\n",
       " {'quote': '“Try not to become a man of success. Rather become a man of value.”'},\n",
       " {'quote': '“It is better to be hated for what you are than to be loved for what you are not.”'},\n",
       " {'quote': \"“I have not failed. I've just found 10,000 ways that won't work.”\"},\n",
       " {'quote': \"“A woman is like a tea bag; you never know how strong it is until it's in hot water.”\"},\n",
       " {'quote': '“A day without sunshine is like, you know, night.”'},\n",
       " {'quote': \"“This life is what you make it. No matter what, you're going to mess up sometimes, it's a universal truth. But the good part is you get to decide how you're going to mess it up. Girls will be your friends - they'll act like it anyway. But just remember, some come, some go. The ones that stay with you through everything - they're your true best friends. Don't let go of them. Also remember, sisters make the best friends in the world. As for lovers, well, they'll come and go too. And baby, I hate to say it, most of them - actually pretty much all of them are going to break your heart, but you can't give up because if you give up, you'll never find your soulmate. You'll never find that half who makes you whole and that goes for everything. Just because you fail once, doesn't mean you're gonna fail at everything. Keep trying, hold on, and always, always, always believe in yourself, because if you don't, then who will, sweetie? So keep your head high, keep your chin up, and most importantly, keep smiling, because life's a beautiful thing and there's so much to smile about.”\"},\n",
       " {'quote': '“It takes a great deal of bravery to stand up to our enemies, but just as much to stand up to our friends.”'},\n",
       " {'quote': \"“If you can't explain it to a six year old, you don't understand it yourself.”\"},\n",
       " {'quote': \"“You may not be her first, her last, or her only. She loved before she may love again. But if she loves you now, what else matters? She's not perfect—you aren't either, and the two of you may never be perfect together but if she can make you laugh, cause you to think twice, and admit to being human and making mistakes, hold onto her and give her the most you can. She may not be thinking about you every second of the day, but she will give you a part of her that she knows you can break—her heart. So don't hurt her, don't change her, don't analyze and don't expect more than she can give. Smile when she makes you happy, let her know when she makes you mad, and miss her when she's not there.”\"},\n",
       " {'quote': '“I like nonsense, it wakes up the brain cells. Fantasy is a necessary ingredient in living.”'},\n",
       " {'quote': '“I may not have gone where I intended to go, but I think I have ended up where I needed to be.”'},\n",
       " {'quote': \"“The opposite of love is not hate, it's indifference. The opposite of art is not ugliness, it's indifference. The opposite of faith is not heresy, it's indifference. And the opposite of life is not death, it's indifference.”\"},\n",
       " {'quote': '“It is not a lack of love, but a lack of friendship that makes unhappy marriages.”'},\n",
       " {'quote': '“Good friends, good books, and a sleepy conscience: this is the ideal life.”'},\n",
       " {'quote': '“Life is what happens to us while we are making other plans.”'},\n",
       " {'quote': '“I love you without knowing how, or when, or from where. I love you simply, without problems or pride: I love you in this way because I do not know any other way of loving but this, in which there is no I or you, so intimate that your hand upon my chest is my hand, so intimate that when I fall asleep your eyes close.”'},\n",
       " {'quote': '“For every minute you are angry you lose sixty seconds of happiness.”'},\n",
       " {'quote': '“If you judge people, you have no time to love them.”'},\n",
       " {'quote': '“Anyone who thinks sitting in church can make you a Christian must also think that sitting in a garage can make you a car.”'},\n",
       " {'quote': '“Beauty is in the eye of the beholder and it may be necessary from time to time to give a stupid or misinformed beholder a black eye.”'},\n",
       " {'quote': '“Today you are You, that is truer than true. There is no one alive who is Youer than You.”'},\n",
       " {'quote': '“If you want your children to be intelligent, read them fairy tales. If you want them to be more intelligent, read them more fairy tales.”'},\n",
       " {'quote': '“It is impossible to live without failing at something, unless you live so cautiously that you might as well not have lived at all - in which case, you fail by default.”'},\n",
       " {'quote': '“Logic will get you from A to Z; imagination will get you everywhere.”'},\n",
       " {'quote': '“One good thing about music, when it hits you, you feel no pain.”'},\n",
       " {'quote': \"“The more that you read, the more things you will know. The more that you learn, the more places you'll go.”\"},\n",
       " {'quote': '“Of course it is happening inside your head, Harry, but why on earth should that mean that it is not real?”'},\n",
       " {'quote': '“The truth is, everyone is going to hurt you. You just got to find the ones worth suffering for.”'},\n",
       " {'quote': '“Not all of us can do great things. But we can do small things with great love.”'},\n",
       " {'quote': '“To the well-organized mind, death is but the next great adventure.”'},\n",
       " {'quote': \"“All you need is love. But a little chocolate now and then doesn't hurt.”\"},\n",
       " {'quote': \"“We read to know we're not alone.”\"},\n",
       " {'quote': '“Any fool can know. The point is to understand.”'},\n",
       " {'quote': '“I have always imagined that Paradise will be a kind of library.”'},\n",
       " {'quote': '“It is never too late to be what you might have been.”'},\n",
       " {'quote': '“A reader lives a thousand lives before he dies, said Jojen. The man who never reads lives only one.”'},\n",
       " {'quote': '“You can never get a cup of tea large enough or a book long enough to suit me.”'},\n",
       " {'quote': '“You believe lies so you eventually learn to trust no one but yourself.”'},\n",
       " {'quote': '“If you can make a woman laugh, you can make her do anything.”'},\n",
       " {'quote': '“Life is like riding a bicycle. To keep your balance, you must keep moving.”'},\n",
       " {'quote': '“The real lover is the man who can thrill you by kissing your forehead or smiling into your eyes or just staring into space.”'},\n",
       " {'quote': \"“A wise girl kisses but doesn't love, listens but doesn't believe, and leaves before she is left.”\"},\n",
       " {'quote': '“Only in the darkness can you see the stars.”'},\n",
       " {'quote': '“It matters not what someone is born, but what they grow to be.”'},\n",
       " {'quote': '“Love does not begin and end the way we seem to think it does. Love is a battle, love is a war; love is a growing up.”'},\n",
       " {'quote': '“There is nothing I would not do for those who are really my friends. I have no notion of loving people by halves, it is not my nature.”'},\n",
       " {'quote': '“Do one thing every day that scares you.”'},\n",
       " {'quote': '“I am good, but not an angel. I do sin, but I am not the devil. I am just a small girl in a big world trying to find someone to love.”'},\n",
       " {'quote': '“If I were not a physicist, I would probably be a musician. I often think in music. I live my daydreams in music. I see my life in terms of music.”'},\n",
       " {'quote': '“If you only read the books that everyone else is reading, you can only think what everyone else is thinking.”'},\n",
       " {'quote': '“The difference between genius and stupidity is: genius has its limits.”'},\n",
       " {'quote': \"“He's like a drug for you, Bella.”\"},\n",
       " {'quote': '“There is no friend as loyal as a book.”'},\n",
       " {'quote': '“When one door of happiness closes, another opens; but often we look so long at the closed door that we do not see the one which has been opened for us.”'},\n",
       " {'quote': \"“Life isn't about finding yourself. Life is about creating yourself.”\"},\n",
       " {'quote': \"“That's the problem with drinking, I thought, as I poured myself a drink. If something bad happens you drink in an attempt to forget; if something good happens you drink in order to celebrate; and if nothing happens you drink to make something happen.”\"},\n",
       " {'quote': '“You don’t forget the face of the person who was your last hope.”'},\n",
       " {'quote': \"“Remember, we're madly in love, so it's all right to kiss me anytime you feel like it.”\"},\n",
       " {'quote': '“To love at all is to be vulnerable. Love anything and your heart will be wrung and possibly broken. If you want to make sure of keeping it intact you must give it to no one, not even an animal. Wrap it carefully round with hobbies and little luxuries; avoid all entanglements. Lock it up safe in the casket or coffin of your selfishness. But in that casket, safe, dark, motionless, airless, it will change. It will not be broken; it will become unbreakable, impenetrable, irredeemable. To love is to be vulnerable.”'},\n",
       " {'quote': '“Not all those who wander are lost.”'},\n",
       " {'quote': '“Do not pity the dead, Harry. Pity the living, and, above all those who live without love.”'},\n",
       " {'quote': '“There is nothing to writing. All you do is sit down at a typewriter and bleed.”'},\n",
       " {'quote': '“Finish each day and be done with it. You have done what you could. Some blunders and absurdities no doubt crept in; forget them as soon as you can. Tomorrow is a new day. You shall begin it serenely and with too high a spirit to be encumbered with your old nonsense.”'},\n",
       " {'quote': '“I have never let my schooling interfere with my education.”'},\n",
       " {'quote': \"“I have heard there are troubles of more than one kind. Some come from ahead and some come from behind. But I've bought a big bat. I'm all ready you see. Now my troubles are going to have troubles with me!”\"},\n",
       " {'quote': '“If I had a flower for every time I thought of you...I could walk through my garden forever.”'},\n",
       " {'quote': '“Some people never go crazy. What truly horrible lives they must lead.”'},\n",
       " {'quote': '“The trouble with having an open mind, of course, is that people will insist on coming along and trying to put things in it.”'},\n",
       " {'quote': '“Think left and think right and think low and think high. Oh, the thinks you can think up if only you try!”'},\n",
       " {'quote': \"“What really knocks me out is a book that, when you're all done reading it, you wish the author that wrote it was a terrific friend of yours and you could call him up on the phone whenever you felt like it. That doesn't happen much, though.”\"},\n",
       " {'quote': '“The reason I talk to myself is because I’m the only one whose answers I accept.”'},\n",
       " {'quote': \"“You may say I'm a dreamer, but I'm not the only one. I hope someday you'll join us. And the world will live as one.”\"},\n",
       " {'quote': '“I am free of all prejudice. I hate everyone equally. ”'},\n",
       " {'quote': \"“The question isn't who is going to let me; it's who is going to stop me.”\"},\n",
       " {'quote': \"“′Classic′ - a book which people praise and don't read.”\"},\n",
       " {'quote': '“Anyone who has never made a mistake has never tried anything new.”'},\n",
       " {'quote': \"“A lady's imagination is very rapid; it jumps from admiration to love, from love to matrimony in a moment.”\"},\n",
       " {'quote': '“Remember, if the time should come when you have to make a choice between what is right and what is easy, remember what happened to a boy who was good, and kind, and brave, because he strayed across the path of Lord Voldemort. Remember Cedric Diggory.”'},\n",
       " {'quote': '“I declare after all there is no enjoyment like reading! How much sooner one tires of any thing than of a book! -- When I have a house of my own, I shall be miserable if I have not an excellent library.”'},\n",
       " {'quote': '“There are few people whom I really love, and still fewer of whom I think well. The more I see of the world, the more am I dissatisfied with it; and every day confirms my belief of the inconsistency of all human characters, and of the little dependence that can be placed on the appearance of merit or sense.”'},\n",
       " {'quote': '“Some day you will be old enough to start reading fairy tales again.”'},\n",
       " {'quote': '“We are not necessarily doubting that God will do the best for us; we are wondering how painful the best will turn out to be.”'},\n",
       " {'quote': '“The fear of death follows from the fear of life. A man who lives fully is prepared to die at any time.”'},\n",
       " {'quote': '“A lie can travel half way around the world while the truth is putting on its shoes.”'},\n",
       " {'quote': '“I believe in Christianity as I believe that the sun has risen: not only because I see it, but because by it I see everything else.”'},\n",
       " {'quote': '“The truth.\" Dumbledore sighed. \"It is a beautiful and terrible thing, and should therefore be treated with great caution.”'},\n",
       " {'quote': \"“I'm the one that's got to die when it's time for me to die, so let me live my life the way I want to.”\"},\n",
       " {'quote': '“To die will be an awfully big adventure.”'},\n",
       " {'quote': '“It takes courage to grow up and become who you really are.”'},\n",
       " {'quote': '“But better to get hurt by the truth than comforted with a lie.”'},\n",
       " {'quote': '“You never really understand a person until you consider things from his point of view... Until you climb inside of his skin and walk around in it.”'},\n",
       " {'quote': '“You have to write the book that wants to be written. And if the book will be too difficult for grown-ups, then you write it for children.”'},\n",
       " {'quote': '“Never tell the truth to people who are not worthy of it.”'},\n",
       " {'quote': \"“A person's a person, no matter how small.”\"},\n",
       " {'quote': '“... a mind needs books as a sword needs a whetstone, if it is to keep its edge.”'}]"
      ]
     },
     "execution_count": 23,
     "metadata": {},
     "output_type": "execute_result"
    }
   ],
   "source": [
    "quote_all"
   ]
  },
  {
   "cell_type": "code",
   "execution_count": 28,
   "metadata": {},
   "outputs": [],
   "source": [
    "dff = pd.DataFrame(tt)\n",
    "#print(dff) #complete"
   ]
  },
  {
   "cell_type": "code",
   "execution_count": 25,
   "metadata": {},
   "outputs": [
    {
     "data": {
      "text/plain": [
       "Index(['quote', 'author', 'tags'], dtype='object')"
      ]
     },
     "execution_count": 25,
     "metadata": {},
     "output_type": "execute_result"
    }
   ],
   "source": [
    "dff.columns"
   ]
  },
  {
   "cell_type": "code",
   "execution_count": 26,
   "metadata": {},
   "outputs": [],
   "source": [
    "dff = dff.set_axis(['quote', 'author', 'tags'], axis=1, inplace=False)"
   ]
  },
  {
   "cell_type": "code",
   "execution_count": 27,
   "metadata": {},
   "outputs": [
    {
     "data": {
      "text/html": [
       "<div>\n",
       "<style scoped>\n",
       "    .dataframe tbody tr th:only-of-type {\n",
       "        vertical-align: middle;\n",
       "    }\n",
       "\n",
       "    .dataframe tbody tr th {\n",
       "        vertical-align: top;\n",
       "    }\n",
       "\n",
       "    .dataframe thead th {\n",
       "        text-align: right;\n",
       "    }\n",
       "</style>\n",
       "<table border=\"1\" class=\"dataframe\">\n",
       "  <thead>\n",
       "    <tr style=\"text-align: right;\">\n",
       "      <th></th>\n",
       "      <th>quote</th>\n",
       "      <th>author</th>\n",
       "      <th>tags</th>\n",
       "    </tr>\n",
       "  </thead>\n",
       "  <tbody>\n",
       "    <tr>\n",
       "      <th>0</th>\n",
       "      <td>“The world as we have created it is a process ...</td>\n",
       "      <td>Albert Einstein</td>\n",
       "      <td>[change, deep-thoughts, thinking, world]</td>\n",
       "    </tr>\n",
       "    <tr>\n",
       "      <th>1</th>\n",
       "      <td>“It is our choices, Harry, that show what we t...</td>\n",
       "      <td>J.K. Rowling</td>\n",
       "      <td>[abilities, choices]</td>\n",
       "    </tr>\n",
       "    <tr>\n",
       "      <th>2</th>\n",
       "      <td>“There are only two ways to live your life. On...</td>\n",
       "      <td>Albert Einstein</td>\n",
       "      <td>[inspirational, life, live, miracle, miracles]</td>\n",
       "    </tr>\n",
       "    <tr>\n",
       "      <th>3</th>\n",
       "      <td>“The person, be it gentleman or lady, who has ...</td>\n",
       "      <td>Jane Austen</td>\n",
       "      <td>[aliteracy, books, classic, humor]</td>\n",
       "    </tr>\n",
       "    <tr>\n",
       "      <th>4</th>\n",
       "      <td>“Imperfection is beauty, madness is genius and...</td>\n",
       "      <td>Marilyn Monroe</td>\n",
       "      <td>[be-yourself, inspirational]</td>\n",
       "    </tr>\n",
       "    <tr>\n",
       "      <th>...</th>\n",
       "      <td>...</td>\n",
       "      <td>...</td>\n",
       "      <td>...</td>\n",
       "    </tr>\n",
       "    <tr>\n",
       "      <th>95</th>\n",
       "      <td>“You never really understand a person until yo...</td>\n",
       "      <td>Harper Lee</td>\n",
       "      <td>[better-life-empathy]</td>\n",
       "    </tr>\n",
       "    <tr>\n",
       "      <th>96</th>\n",
       "      <td>“You have to write the book that wants to be w...</td>\n",
       "      <td>Madeleine L'Engle</td>\n",
       "      <td>[books, children, difficult, grown-ups, write,...</td>\n",
       "    </tr>\n",
       "    <tr>\n",
       "      <th>97</th>\n",
       "      <td>“Never tell the truth to people who are not wo...</td>\n",
       "      <td>Mark Twain</td>\n",
       "      <td>[truth]</td>\n",
       "    </tr>\n",
       "    <tr>\n",
       "      <th>98</th>\n",
       "      <td>“A person's a person, no matter how small.”</td>\n",
       "      <td>Dr. Seuss</td>\n",
       "      <td>[inspirational]</td>\n",
       "    </tr>\n",
       "    <tr>\n",
       "      <th>99</th>\n",
       "      <td>“... a mind needs books as a sword needs a whe...</td>\n",
       "      <td>George R.R. Martin</td>\n",
       "      <td>[books, mind]</td>\n",
       "    </tr>\n",
       "  </tbody>\n",
       "</table>\n",
       "<p>100 rows × 3 columns</p>\n",
       "</div>"
      ],
      "text/plain": [
       "                                                quote              author  \\\n",
       "0   “The world as we have created it is a process ...     Albert Einstein   \n",
       "1   “It is our choices, Harry, that show what we t...        J.K. Rowling   \n",
       "2   “There are only two ways to live your life. On...     Albert Einstein   \n",
       "3   “The person, be it gentleman or lady, who has ...         Jane Austen   \n",
       "4   “Imperfection is beauty, madness is genius and...      Marilyn Monroe   \n",
       "..                                                ...                 ...   \n",
       "95  “You never really understand a person until yo...          Harper Lee   \n",
       "96  “You have to write the book that wants to be w...   Madeleine L'Engle   \n",
       "97  “Never tell the truth to people who are not wo...          Mark Twain   \n",
       "98        “A person's a person, no matter how small.”           Dr. Seuss   \n",
       "99  “... a mind needs books as a sword needs a whe...  George R.R. Martin   \n",
       "\n",
       "                                                 tags  \n",
       "0            [change, deep-thoughts, thinking, world]  \n",
       "1                                [abilities, choices]  \n",
       "2      [inspirational, life, live, miracle, miracles]  \n",
       "3                  [aliteracy, books, classic, humor]  \n",
       "4                        [be-yourself, inspirational]  \n",
       "..                                                ...  \n",
       "95                              [better-life-empathy]  \n",
       "96  [books, children, difficult, grown-ups, write,...  \n",
       "97                                            [truth]  \n",
       "98                                    [inspirational]  \n",
       "99                                      [books, mind]  \n",
       "\n",
       "[100 rows x 3 columns]"
      ]
     },
     "execution_count": 27,
     "metadata": {},
     "output_type": "execute_result"
    }
   ],
   "source": [
    "dff"
   ]
  },
  {
   "cell_type": "code",
   "execution_count": null,
   "metadata": {},
   "outputs": [],
   "source": []
  },
  {
   "cell_type": "code",
   "execution_count": null,
   "metadata": {},
   "outputs": [],
   "source": []
  },
  {
   "cell_type": "code",
   "execution_count": null,
   "metadata": {},
   "outputs": [],
   "source": []
  }
 ],
 "metadata": {
  "kernelspec": {
   "display_name": "Python 3",
   "language": "python",
   "name": "python3"
  },
  "language_info": {
   "codemirror_mode": {
    "name": "ipython",
    "version": 3
   },
   "file_extension": ".py",
   "mimetype": "text/x-python",
   "name": "python",
   "nbconvert_exporter": "python",
   "pygments_lexer": "ipython3",
   "version": "3.8.3"
  },
  "widgets": {
   "application/vnd.jupyter.widget-state+json": {
    "state": {},
    "version_major": 2,
    "version_minor": 0
   }
  }
 },
 "nbformat": 4,
 "nbformat_minor": 4
}
